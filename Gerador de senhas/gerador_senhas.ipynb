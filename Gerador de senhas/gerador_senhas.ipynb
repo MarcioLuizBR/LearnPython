{
 "cells": [
  {
   "cell_type": "markdown",
   "id": "74b1c214-34d8-43a1-867b-1055887eca93",
   "metadata": {},
   "source": [
    "Escreva um programa que gere uma senha aleatória com um determinado comprimento. A senha deve conter uma mistura de letras, números e caracteres especiais. O comprimento da senha deve ser fornecido pelo usuário. Se o comprimento for menor que 4, imprima uma mensagem de erro e peça ao usuário para fornecer um novo comprimento.\n",
    "\n",
    "A senha deve ser aleatória, então cada vez que o usuário executar o programa, uma nova senha deve ser gerada. Obrigatoriamente, a senha deve conter pelo menos uma letra, um número e um caractere especial. A senha não pode conter espaços em branco.\n",
    "\n",
    "O programa deve conter uma função chamada `gerar_senha` que recebe o comprimento da senha como parâmetro e retorna a senha gerada. Se o comprimento for inválido, a função deve retornar None.\n",
    "\n",
    "Exemplo de saída:\n",
    "\n",
    "```\n",
    "Digite o comprimento da senha: 10\n",
    "8Zn$*2q9X\n",
    "```\n",
    "\n",
    "- Dica: use a biblioteca random e a função shuffle para embaralhar os caracteres da senha.\n",
    "- Dica: use a função choice, dessa mesma biblioteca, para escolher um caractere aleatório de uma string.\n",
    "- Dica: use a biblioteca string para obter uma lista de caracteres válidos para a senha."
   ]
  },
  {
   "cell_type": "code",
   "execution_count": 1,
   "id": "9ec1394a",
   "metadata": {},
   "outputs": [
    {
     "name": "stdout",
     "output_type": "stream",
     "text": [
      "abcdefghijklmnopqrstuvwxyzABCDEFGHIJKLMNOPQRSTUVWXYZ\n",
      "0123456789\n",
      "!\"#$%&'()*+,-./:;<=>?@[\\]^_`{|}~\n"
     ]
    }
   ],
   "source": [
    "import string\n",
    "\n",
    "print(string.ascii_letters)\n",
    "print(string.digits)\n",
    "print(string.punctuation)\n",
    "\n"
   ]
  },
  {
   "cell_type": "code",
   "execution_count": 4,
   "id": "63337fd3",
   "metadata": {},
   "outputs": [
    {
     "data": {
      "text/plain": [
       "'9'"
      ]
     },
     "execution_count": 4,
     "metadata": {},
     "output_type": "execute_result"
    }
   ],
   "source": [
    "import random\n",
    "\n",
    "random.choice(string.digits)"
   ]
  },
  {
   "cell_type": "code",
   "execution_count": 6,
   "id": "a84ab0b4",
   "metadata": {},
   "outputs": [
    {
     "data": {
      "text/plain": [
       "['5', '0', '5', '2', '3']"
      ]
     },
     "execution_count": 6,
     "metadata": {},
     "output_type": "execute_result"
    }
   ],
   "source": [
    "random.choices(string.digits, k = 5)"
   ]
  },
  {
   "cell_type": "code",
   "execution_count": 7,
   "id": "149f287b",
   "metadata": {},
   "outputs": [
    {
     "name": "stdout",
     "output_type": "stream",
     "text": [
      "['7', '7', '2', '6', '6']\n",
      "['2', '7', '6', '6', '7']\n"
     ]
    }
   ],
   "source": [
    "escolhas = random.choices(string.digits, k = 5)\n",
    "print(escolhas)\n",
    "\n",
    "random.shuffle(escolhas)\n",
    "\n",
    "print(escolhas)"
   ]
  },
  {
   "cell_type": "code",
   "execution_count": 14,
   "id": "65c69cc6",
   "metadata": {},
   "outputs": [
    {
     "name": "stdout",
     "output_type": "stream",
     "text": [
      "RZiV%g]}10[Rxe$7-H$P\n"
     ]
    }
   ],
   "source": [
    "def gerar_senha(tamanho):\n",
    "    if tamanho < 4:\n",
    "        print(\"O tamnho da senha deve ser pelo menos 4 caracteres\")\n",
    "    else:\n",
    "        senha = [\n",
    "            random.choice(string.ascii_letters),\n",
    "            random.choice(string.digits),\n",
    "            random.choice(string.punctuation),\n",
    "        ]\n",
    "\n",
    "        possibilidades = \"\".join([string.ascii_letters, string.punctuation, string.digits])\n",
    "        senha.extend(random.choices(possibilidades, k=tamanho-3))\n",
    "\n",
    "        random.shuffle(senha)\n",
    "\n",
    "        return \"\".join(senha)\n",
    "\n",
    "tamanho = int(input(\"Digite o comprimento da senha: \"))\n",
    "print(gerar_senha(tamanho))"
   ]
  }
 ],
 "metadata": {
  "kernelspec": {
   "display_name": "Python 3 (ipykernel)",
   "language": "python",
   "name": "python3"
  },
  "language_info": {
   "codemirror_mode": {
    "name": "ipython",
    "version": 3
   },
   "file_extension": ".py",
   "mimetype": "text/x-python",
   "name": "python",
   "nbconvert_exporter": "python",
   "pygments_lexer": "ipython3",
   "version": "3.12.1"
  }
 },
 "nbformat": 4,
 "nbformat_minor": 5
}
