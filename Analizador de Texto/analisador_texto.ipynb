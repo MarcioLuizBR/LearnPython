{
 "cells": [
  {
   "cell_type": "markdown",
   "id": "bc53556e-a539-4328-b873-fa5357312414",
   "metadata": {},
   "source": [
    "Crie um programa que analise um texto fornecido pelo usuário. O programa deve contar o número de palavras (independentemente se há repetição ou não), a quantidade de cada palavra e a quantidade de cada letra. Ignore maiúsculas e minúsculas ao contar letras (ou seja, transforme tudo para minúsculas). Faça o devido tratamento para pontuação e espaços ao contar palavras.\n",
    "\n",
    "O programa deve conter uma função chamada `analisar_texto` que recebe o texto como parâmetro e retorna a contagem de palavras, a frequência de palavras e a frequência de letras. A função deve ser devidamente documentada.\n",
    "\n",
    "Para o texto \"Olá mundo! Este é um teste. Olá novamente.\" o programa deve imprimir:\n",
    "\n",
    "```\n",
    "Contagem de palavras: 8\n",
    "Frequência de palavras: Counter({'Olá': 2, 'mundo': 1, 'Este': 1, 'é': 1, 'um': 1, 'teste': 1, 'novamente': 1})\n",
    "Frequência de letras: Counter({' ': 7, 'e': 6, 'o': 4, 't': 4, 'm': 3, 'n': 3, 'l': 2, 'á': 2, 'u': 2, 's': 2, 'd': 1, 'é': 1, 'v': 1, 'a': 1})\n",
    "```\n",
    "\n",
    "Dica: use o módulo `string` para obter uma lista de caracteres de pontuação. Exemplo:\n",
    "\n",
    "```python\n",
    "import string\n",
    "print(string.punctuation)\n",
    "```\n",
    "\n",
    "Dica: use o módulo `collections` para obter um contador de palavras e letras. Exemplo:\n",
    "\n",
    "```python\n",
    "from collections import Counter\n",
    "print(Counter(['a', 'b', 'a', 'c', 'b', 'a']))\n",
    "print(Counter('abacba'))\n",
    "``` "
   ]
  },
  {
   "cell_type": "code",
   "execution_count": 1,
   "id": "8feda3f2-210f-4224-9b53-de7206c039ae",
   "metadata": {},
   "outputs": [
    {
     "name": "stdout",
     "output_type": "stream",
     "text": [
      "!\"#$%&'()*+,-./:;<=>?@[\\]^_`{|}~\n",
      "abcdefghijklmnopqrstuvwxyzABCDEFGHIJKLMNOPQRSTUVWXYZ\n",
      "ABCDEFGHIJKLMNOPQRSTUVWXYZ\n",
      "abcdefghijklmnopqrstuvwxyz\n",
      "0123456789\n"
     ]
    }
   ],
   "source": [
    "import string\n",
    "print(string.punctuation)\n",
    "print(string.ascii_letters)\n",
    "print(string.ascii_uppercase)\n",
    "print(string.ascii_lowercase)\n",
    "print(string.digits)"
   ]
  },
  {
   "cell_type": "code",
   "execution_count": 2,
   "id": "d6767dfe",
   "metadata": {},
   "outputs": [
    {
     "name": "stdout",
     "output_type": "stream",
     "text": [
      "Counter({'a': 3, 'b': 2, 'c': 1})\n",
      "Counter({'a': 3, 'b': 2, 'c': 1})\n"
     ]
    }
   ],
   "source": [
    "from collections import Counter\n",
    "print(Counter(['a', 'b', 'a', 'c', 'b', 'a']))\n",
    "print(Counter('abacba'))"
   ]
  },
  {
   "cell_type": "code",
   "execution_count": 3,
   "id": "e09ac66f",
   "metadata": {},
   "outputs": [
    {
     "name": "stdout",
     "output_type": "stream",
     "text": [
      "Contagem de palavras: 8\n",
      "Frequencia de palavras: Counter({'Olá': 2, 'mundo!': 1, 'Este': 1, 'é': 1, 'um': 1, 'teste,': 1, 'novamente.': 1})\n",
      "Frequencia de letras: Counter({' ': 7, 'e': 5, 't': 4, 'm': 3, 'n': 3, 'O': 2, 'l': 2, 'á': 2, 'u': 2, 'o': 2, 's': 2, 'd': 1, '!': 1, 'E': 1, 'é': 1, ',': 1, 'v': 1, 'a': 1, '.': 1})\n"
     ]
    }
   ],
   "source": [
    "# solução simples\n",
    "def analisar_texto(texto):\n",
    "    palavras = texto.split()\n",
    "    contagem_palavras = len(palavras)\n",
    "    frequencia_palavras = Counter(palavras)\n",
    "    frequencia_letras = Counter(texto)\n",
    "    return contagem_palavras, frequencia_palavras, frequencia_letras\n",
    "\n",
    "texto = \"Olá mundo! Este é um teste, Olá novamente.\"\n",
    "\n",
    "# print(analisar_texto(texto))\n",
    "\n",
    "contagem_palavras, frequencia_palavras,  frequencia_letras = analisar_texto(texto)\n",
    "\n",
    "print(\"Contagem de palavras: {}\".format(contagem_palavras))\n",
    "print(\"Frequencia de palavras: {}\".format(frequencia_palavras))\n",
    "print(\"Frequencia de letras: {}\".format(frequencia_letras))"
   ]
  },
  {
   "cell_type": "code",
   "execution_count": 5,
   "id": "7c0ac27c",
   "metadata": {},
   "outputs": [
    {
     "name": "stdout",
     "output_type": "stream",
     "text": [
      "{97: None, 101: 50, 105: 51, 111: 52, 117: 53}\n"
     ]
    }
   ],
   "source": [
    "vogais = \"aeiou\"\n",
    "numeros = \"12345\"\n",
    "remover = \"a\"\n",
    "\n",
    "guia_troca = str.maketrans(vogais, numeros, remover)\n",
    "print(guia_troca)\n",
    "\n"
   ]
  },
  {
   "cell_type": "code",
   "execution_count": 6,
   "id": "4de0d7ec",
   "metadata": {},
   "outputs": [
    {
     "name": "stdout",
     "output_type": "stream",
     "text": [
      "bcd2fgh3jklmn4pqrst5vwxyz\n"
     ]
    }
   ],
   "source": [
    "letras_minusculas = string.ascii_lowercase\n",
    "\n",
    "print(letras_minusculas.translate(guia_troca))"
   ]
  },
  {
   "cell_type": "code",
   "execution_count": 9,
   "id": "6c28ee71",
   "metadata": {},
   "outputs": [
    {
     "name": "stdout",
     "output_type": "stream",
     "text": [
      "Contagem de palavras: 8\n",
      "Frequencia de palavras: Counter({'Olá': 2, 'mundo': 1, 'Este': 1, 'é': 1, 'um': 1, 'teste': 1, 'novamente': 1})\n",
      "Frequencia de letras: Counter({' ': 7, 'e': 6, 'o': 4, 't': 4, 'm': 3, 'n': 3, 'l': 2, 'á': 2, 'u': 2, 's': 2, 'd': 1, 'é': 1, 'v': 1, 'a': 1})\n"
     ]
    }
   ],
   "source": [
    "# solução simples\n",
    "def analisar_texto(texto):\n",
    "    \"\"\"\n",
    "    Analiza o texto fornecisdo e calcula a contagem de palavras, a frequencia de palavras e frequencia de letras.\n",
    "\n",
    "    Paramenter\n",
    "    ----------\n",
    "    texto : str\n",
    "        Texto a ser analizado\n",
    "\n",
    "    Returns\n",
    "    -------\n",
    "    tuple\n",
    "        Contagem de palavras, frequencia de palavras, frequencia de letras\n",
    "    \"\"\"\n",
    "    tratamento = str.maketrans(\"\", \"\", string.punctuation)\n",
    "    texto_tratado = texto.translate(tratamento)\n",
    "    palavras = texto_tratado.split()\n",
    "    contagem_palavras = len(palavras)\n",
    "    frequencia_palavras = Counter(palavras)\n",
    "    frequencia_letras = Counter(texto_tratado.lower())\n",
    "    return contagem_palavras, frequencia_palavras, frequencia_letras\n",
    "\n",
    "texto = \"Olá mundo! Este é um teste, Olá novamente.\"\n",
    "\n",
    "# print(analisar_texto(texto))\n",
    "\n",
    "contagem_palavras, frequencia_palavras,  frequencia_letras = analisar_texto(texto)\n",
    "\n",
    "print(\"Contagem de palavras: {}\".format(contagem_palavras))\n",
    "print(\"Frequencia de palavras: {}\".format(frequencia_palavras))\n",
    "print(\"Frequencia de letras: {}\".format(frequencia_letras))"
   ]
  }
 ],
 "metadata": {
  "kernelspec": {
   "display_name": "Python 3 (ipykernel)",
   "language": "python",
   "name": "python3"
  },
  "language_info": {
   "codemirror_mode": {
    "name": "ipython",
    "version": 3
   },
   "file_extension": ".py",
   "mimetype": "text/x-python",
   "name": "python",
   "nbconvert_exporter": "python",
   "pygments_lexer": "ipython3",
   "version": "3.12.1"
  }
 },
 "nbformat": 4,
 "nbformat_minor": 5
}
